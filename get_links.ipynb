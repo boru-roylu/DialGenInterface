{
 "cells": [
  {
   "cell_type": "code",
   "execution_count": 1,
   "metadata": {},
   "outputs": [
    {
     "name": "stdout",
     "output_type": "stream",
     "text": [
      "Use the following link to initialize all tasks. You need to run this every time you restart the server.\n",
      "http://localhost:15000/admin\n",
      "\n",
      "You will be redirected to api keys status page when the initialization is done\n",
      "http://localhost:15000/api_keys\n",
      "\n",
      "Links to the tasks\n",
      "task_id = '8MGFw' worker_id = bobsmith        link = http://localhost:15000/main?task_id=8MGFw&worker_id=bobsmith\n",
      "task_id = 'JT3cM' worker_id = bobsmith        link = http://localhost:15000/main?task_id=JT3cM&worker_id=bobsmith\n",
      "task_id = 'sTXKs' worker_id = bobsmith        link = http://localhost:15000/main?task_id=sTXKs&worker_id=bobsmith\n",
      "task_id = '903w4' worker_id = bobsmith        link = http://localhost:15000/main?task_id=903w4&worker_id=bobsmith\n",
      "task_id = 'a1DA3' worker_id = bobsmith        link = http://localhost:15000/main?task_id=a1DA3&worker_id=bobsmith\n"
     ]
    }
   ],
   "source": [
    "from src import config, utils\n",
    "\n",
    "task_table = utils.read_yaml(config.TASK_TABLE_PATH)\n",
    "worker_map = utils.read_yaml(config.WORKER_MAP_PATH)\n",
    "worker_ids = list(worker_map.keys())\n",
    "num_workers = len(worker_map)\n",
    "\n",
    "print(\n",
    "    \"Use the following link to initialize all tasks. You need to run this every time you restart the server.\"\n",
    ")\n",
    "print(\"http://localhost:15000/admin\")\n",
    "print()\n",
    "\n",
    "print(\"You will be redirected to api keys status page when the initialization is done\")\n",
    "print(\"http://localhost:15000/api_keys\")\n",
    "print()\n",
    "\n",
    "print(\"Links to the tasks\")\n",
    "for i, task_id in enumerate(task_table):\n",
    "    worker_id = worker_ids[i % num_workers]\n",
    "    print(\n",
    "        f\"{task_id = } {worker_id = :<15} link = http://localhost:15000/main?task_id={task_id}&worker_id={worker_id}\"\n",
    "    )"
   ]
  }
 ],
 "metadata": {
  "kernelspec": {
   "display_name": "dg",
   "language": "python",
   "name": "dg"
  },
  "language_info": {
   "codemirror_mode": {
    "name": "ipython",
    "version": 3
   },
   "file_extension": ".py",
   "mimetype": "text/x-python",
   "name": "python",
   "nbconvert_exporter": "python",
   "pygments_lexer": "ipython3",
   "version": "3.8.12"
  },
  "orig_nbformat": 4
 },
 "nbformat": 4,
 "nbformat_minor": 2
}
